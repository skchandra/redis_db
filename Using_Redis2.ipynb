{
 "cells": [
  {
   "cell_type": "code",
   "execution_count": 2,
   "metadata": {
    "collapsed": true
   },
   "outputs": [],
   "source": [
    "import redis\n",
    "from imdb import IMDb"
   ]
  },
  {
   "cell_type": "code",
   "execution_count": null,
   "metadata": {
    "collapsed": true
   },
   "outputs": [],
   "source": [
    "r = redis.StrictRedis(host='localhost', port=6379, db=0)\n",
    "pipe = r.pipeline()"
   ]
  },
  {
   "cell_type": "code",
   "execution_count": null,
   "metadata": {
    "collapsed": true
   },
   "outputs": [],
   "source": [
    "from imdbpie import Imdb\n",
    "imdb1 = Imdb()\n",
    "imdb1 = Imdb(anonymize=True) # to proxy requests\n",
    "\n",
    "# Creating an instance with caching enabled\n",
    "# Note that the cached responses expire every 2 hours or so.\n",
    "# The API response itself dictates the expiry time)\n",
    "imdb1 = Imdb(cache=True)"
   ]
  },
  {
   "cell_type": "code",
   "execution_count": null,
   "metadata": {
    "collapsed": true
   },
   "outputs": [],
   "source": [
    "top250 = imdb1.top_250()\n",
    "dict_top250 = {}\n",
    "for i in range(len(top250)):\n",
    "    dict_top250[((top250[i]['tconst'].encode('utf-8'))[2:len(top250[i]['tconst'].encode('utf-8'))])] = (top250[i]['title'].encode('utf-8'))"
   ]
  },
  {
   "cell_type": "code",
   "execution_count": null,
   "metadata": {
    "collapsed": true
   },
   "outputs": [],
   "source": [
    "# for movId, title in dict_top250.iteritems():\n",
    "#     imdb2 = IMDb()\n",
    "#     my = imdb2.get_movie(movId)\n",
    "#     for castMember in my['cast'][0:10]:\n",
    "#         full_person = imdb2.get_person(castMember.getID(), info=[\"filmography\"])\n",
    "#         pipe.execute()\n",
    "#         try:\n",
    "#             r[castMember['name'].encode('utf-8')]\n",
    "#         except KeyError: \n",
    "#             try:\n",
    "#                 pipe.set(castMember.getID(), (castMember['name'].encode('utf-8'), full_person[\"actress\"]))\n",
    "#             except:\n",
    "#                 pipe.set(castMember.getID(), (castMember['name'].encode('utf-8'), full_person[\"actor\"]))\n",
    "\n",
    "cast_dict = {}\n",
    "\n",
    "for movId, title in dict_top250.iteritems():\n",
    "    cast_list = []\n",
    "#     print movId\n",
    "    imdb2 = IMDb()\n",
    "    my = imdb2.get_movie(movId)\n",
    "#     pipe.execute()\n",
    "    for castMember in my['cast'][0:10]:\n",
    "#         cast_dict[castMember['name'].encode('utf-8')] = castMember.getID();\n",
    "            cast_list.append(castMember.getID());\n",
    "#     print cast_list\n",
    "#     pipe.set(movId, cast_list);        \n",
    "    cast_dict[movId] = cast_list\n",
    "print cast_dict"
   ]
  },
  {
   "cell_type": "code",
   "execution_count": null,
   "metadata": {
    "collapsed": true
   },
   "outputs": [],
   "source": [
    "def test(movies):\n",
    "    \"\"\"input: list of 250 movies\n",
    "        output: hashtable\"\"\"\n",
    "    act_assoc_map = {}\n",
    "    for movie in movies:\n",
    "        l_act = movies.get(movie)\n",
    "        for act in l_act:\n",
    "            for act_id in range(len(l_act)):\n",
    "                if act not in act_assoc_map.keys():\n",
    "                    if l_act[act_id] != act:\n",
    "                        act_assoc_map[act] = [l_act[act_id]]\n",
    "                else:\n",
    "                    if l_act[act_id] != act:\n",
    "                        act_assoc_map[act].append(l_act[act_id])\n",
    "    for actor in act_assoc_map.keys():\n",
    "        act_assoc_map[actor] = list(set(act_assoc_map[actor]))\n",
    "    return act_assoc_map\n",
    "\n",
    "hashtable = test(cast_dict)\n",
    "#print hashtable\n",
    "for key, value in hashtable.iteritems():\n",
    "    print str(value)\n",
    "    pipe.execute();\n",
    "    for i in value:\n",
    "        pipe.lpush(key, i)"
   ]
  },
  {
   "cell_type": "code",
   "execution_count": null,
   "metadata": {
    "collapsed": true
   },
   "outputs": [],
   "source": [
    "len(hashtable.keys())"
   ]
  },
  {
   "cell_type": "code",
   "execution_count": null,
   "metadata": {
    "collapsed": true
   },
   "outputs": [],
   "source": [
    "for key, value in hashtable.iteritems():\n",
    "    print len(value)"
   ]
  },
  {
   "cell_type": "code",
   "execution_count": null,
   "metadata": {
    "collapsed": true
   },
   "outputs": [],
   "source": [
    "full_person = imdb2.get_person('0815495')"
   ]
  },
  {
   "cell_type": "code",
   "execution_count": null,
   "metadata": {
    "collapsed": true
   },
   "outputs": [],
   "source": [
    "full_person"
   ]
  }
 ],
 "metadata": {
  "kernelspec": {
   "display_name": "Python 2",
   "language": "python",
   "name": "python2"
  },
  "language_info": {
   "codemirror_mode": {
    "name": "ipython",
    "version": 2
   },
   "file_extension": ".py",
   "mimetype": "text/x-python",
   "name": "python",
   "nbconvert_exporter": "python",
   "pygments_lexer": "ipython2",
   "version": "2.7.10"
  }
 },
 "nbformat": 4,
 "nbformat_minor": 0
}
