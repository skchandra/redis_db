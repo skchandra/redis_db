{
 "cells": [
  {
   "cell_type": "code",
   "execution_count": 55,
   "metadata": {
    "collapsed": true
   },
   "outputs": [],
   "source": [
    "import redis"
   ]
  },
  {
   "cell_type": "code",
   "execution_count": 59,
   "metadata": {
    "collapsed": false
   },
   "outputs": [],
   "source": [
    "r = redis.StrictRedis(host='localhost', port=6379, db=0)\n",
    "pipe = r.pipeline()"
   ]
  },
  {
   "cell_type": "code",
   "execution_count": 3,
   "metadata": {
    "collapsed": false
   },
   "outputs": [],
   "source": [
    "from imdb import IMDb"
   ]
  },
  {
   "cell_type": "code",
   "execution_count": 32,
   "metadata": {
    "collapsed": false
   },
   "outputs": [
    {
     "name": "stdout",
     "output_type": "stream",
     "text": [
      "[<Person id:0905152[http] name:_Wachowski, Andy_>, <Person id:0905154[http] name:_Wachowski, Lana_>]\n",
      "0000187 Madonna\n",
      "1405139 Madonna de Leon\n",
      "0235031 Donna Douglas\n",
      "0614220 Donna Murphy\n",
      "0001656 Donna Reed\n",
      "0001146 Donna Dixon\n",
      "0005234 Donna Mills\n",
      "0150740 Donna Lynne Champlin\n",
      "0675950 Donna Pescow\n",
      "0000351 Donna D'Errico\n",
      "7371790 Madonna Sebastian\n",
      "1967827 Laura Donnelly\n",
      "1480980 Emma Donoghue\n",
      "2114153 Donna Feldman\n",
      "0779072 Donna W. Scott\n",
      "0004851 Penélope Cruz\n",
      "0929160 Donna Wilkes\n",
      "0714426 Donnamarie Recco\n",
      "0535069 Lady Madonna\n",
      "0838595 Donna Summer\n"
     ]
    }
   ],
   "source": [
    "ia = IMDb()\n",
    "\n",
    "the_matrix = ia.get_movie('0133093')\n",
    "print the_matrix['director']\n",
    "\n",
    "for person in ia.search_person('Madonna'):\n",
    "        print person.personID, person['name']"
   ]
  },
  {
   "cell_type": "code",
   "execution_count": 95,
   "metadata": {
    "collapsed": false
   },
   "outputs": [
    {
     "data": {
      "text/plain": [
       "\"[<Movie id:3381008[http] title:_The Brothers Grimsby (2016)_>, <Movie id:1608290[http] title:_Zoolander 2 (2016)_>, <Movie id:2411144[http] title:_La reina de Espa\\xc3\\xb1a (2016)_>, <Movie id:4682788[http] title:_Escobar () (????)_>, <Movie id:3480886[http] title:_Ma ma (2015)_>, <Movie id:2193215[http] title:_The Counselor (2013)_>, <Movie id:2243389[http] title:_I'm So Excited! (2013)_>, <Movie id:1396226[http] title:_Twice Born (2012)_>, <Movie id:1859650[http] title:_To Rome with Love (2012)_>, <Movie id:1298650[http] title:_Pirates of the Caribbean: On Stranger Tides (2011)_>, <Movie id:1261945[http] title:_Sex and the City 2 (2010)_>, <Movie id:0875034[http] title:_Nine (2009)_>, <Movie id:0436339[http] title:_G-Force (2009)_>, <Movie id:0913425[http] title:_Broken Embraces (2009)_>, <Movie id:0491046[http] title:_A Matador's Mistress (2008)_>, <Movie id:0497465[http] title:_Vicky Cristina Barcelona (2008)_>, <Movie id:0974554[http] title:_Elegy (I) (2008)_>, <Movie id:0484111[http] title:_The Good Night (2007)_>, <Movie id:0441909[http] title:_Volver (I) (2006)_>, <Movie id:0416496[http] title:_Bandidas (2006)_>, <Movie id:0419641[http] title:_Chromophobia (2005)_>, <Movie id:0318649[http] title:_Sahara (2005)_>, <Movie id:0338097[http] title:_Head in the Clouds (2004)_>, <Movie id:0383534[http] title:_Noel (2004)_>, <Movie id:0330702[http] title:_Don't Move (2004)_>, <Movie id:0348836[http] title:_Gothika (2003)_>, <Movie id:0305568[http] title:_Fanfan (2003)_>, <Movie id:0319829[http] title:_Masked and Anonymous (2003)_>, <Movie id:0219400[http] title:_Waking Up in Reno (2002)_>, <Movie id:0259711[http] title:_Vanilla Sky (2001)_>, <Movie id:0284491[http] title:_Don't Tempt Me (2001)_>, <Movie id:0238112[http] title:_Captain Corelli's Mandolin (2001)_>, <Movie id:0221027[http] title:_Blow (2001)_>, <Movie id:0149624[http] title:_All the Pretty Horses (2000)_>, <Movie id:0206420[http] title:_Woman on Top (2000)_>, <Movie id:0216386[http] title:_Volav\\xc3\\xa9runt (1999)_>, <Movie id:0185125[http] title:_All About My Mother (1999)_>, <Movie id:0120699[http] title:_The Hi-Lo Country (1998)_>, <Movie id:0158030[http] title:_The Girl of Your Dreams (1998)_>, <Movie id:0120271[http] title:_Talk of Angels (1998)_>, <Movie id:0138590[http] title:_Twice Upon a Yesterday (1998)_>, <Movie id:0123808[http] title:_Don Juan (1998)_>, <Movie id:0125659[http] title:_Open Your Eyes (1997)_>, <Movie id:0118819[http] title:_Live Flesh (1997)_>, <Movie id:0115945[http] title:_A Corner of Paradise (1997)_>, <Movie id:0115536[http] title:_Love Can Seriously Damage Your Health (1996)_>, <Movie id:0117131[http] title:_Not Love, Just Frenzy (1996)_>, <Movie id:0115850[http] title:_La Celestina (1996)_>, <Movie id:0149969[http] title:_Brujas (1996)_>, <Movie id:0112933[http] title:_The Butterfly Effect (1995)_>, <Movie id:0109735[http] title:_Entre rojas (1995)_>, <Movie id:0111449[http] title:_Todo es mentira (1994)_>, <Movie id:0109075[http] title:_Alegre ma non troppo (1994)_>, <Movie id:0107803[http] title:_Per amore, solo per amore (1993)_>, <Movie id:0107956[http] title:_The Rebel (1993)_>, <Movie id:0102253[http] title:_The Greek Labyrinth (1993)_>, <Movie id:0103791[http] title:_Belle Epoque (1992)_>, <Movie id:0104545[http] title:_Jam\\xc3\\xb3n, Jam\\xc3\\xb3n (1992)_>, <Movie id:5092936[http] title:_L'Agent by Agent Provocateur (2014)_>, <Movie id:0454198[http] title:_Mecano - Los v\\xc3\\xaddeos (1992)_>, <Movie id:1369649[http] title:_The Cannibalistic Councillor (2009)_>, <Movie id:0063951[http] title:_Sesame Street (2013)_>, <Movie id:0106956[http] title:_Framed (1992)_>, <Movie id:0131187[http] title:_S\\xc3\\xa9rie rose (1991)_>]\""
      ]
     },
     "execution_count": 95,
     "metadata": {},
     "output_type": "execute_result"
    }
   ],
   "source": [
    "full_person = ia.get_person('0004851', info=[\"filmography\"])\n",
    "full_person.keys()\n",
    "list_movies = []\n",
    "for i in range(len(full_person[\"actress\"])):\n",
    "#     print full_person[\"actress\"][i]['title']\n",
    "    list_movies.append(full_person[\"actress\"][i])\n",
    "\n",
    "pipe.set(full_person[\"name\"], list_movies)\n",
    "pipe.execute()\n",
    "r.get(r.keys()[0])"
   ]
  },
  {
   "cell_type": "code",
   "execution_count": 90,
   "metadata": {
    "collapsed": false
   },
   "outputs": [
    {
     "data": {
      "text/plain": [
       "['Pen\\xc3\\xa9lope Cruz']"
      ]
     },
     "execution_count": 90,
     "metadata": {},
     "output_type": "execute_result"
    }
   ],
   "source": [
    "r.keys()"
   ]
  },
  {
   "cell_type": "code",
   "execution_count": null,
   "metadata": {
    "collapsed": false
   },
   "outputs": [],
   "source": []
  },
  {
   "cell_type": "code",
   "execution_count": null,
   "metadata": {
    "collapsed": true
   },
   "outputs": [],
   "source": []
  }
 ],
 "metadata": {
  "kernelspec": {
   "display_name": "Python 2",
   "language": "python",
   "name": "python2"
  },
  "language_info": {
   "codemirror_mode": {
    "name": "ipython",
    "version": 2
   },
   "file_extension": ".py",
   "mimetype": "text/x-python",
   "name": "python",
   "nbconvert_exporter": "python",
   "pygments_lexer": "ipython2",
   "version": "2.7.10"
  }
 },
 "nbformat": 4,
 "nbformat_minor": 0
}
