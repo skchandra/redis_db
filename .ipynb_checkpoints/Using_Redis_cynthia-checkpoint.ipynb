{
 "cells": [
  {
   "cell_type": "code",
   "execution_count": 1,
   "metadata": {
    "collapsed": true
   },
   "outputs": [],
   "source": [
    "import redis\n",
    "from imdb import IMDb"
   ]
  },
  {
   "cell_type": "code",
   "execution_count": 2,
   "metadata": {
    "collapsed": true
   },
   "outputs": [],
   "source": [
    "r = redis.StrictRedis(host='localhost', port=6379, db=0)\n",
    "pipe = r.pipeline()"
   ]
  },
  {
   "cell_type": "code",
   "execution_count": 3,
   "metadata": {
    "collapsed": true
   },
   "outputs": [],
   "source": [
    "from imdbpie import Imdb\n",
    "imdb1 = Imdb()\n",
    "imdb1 = Imdb(anonymize=True) # to proxy requests\n",
    "\n",
    "# Creating an instance with caching enabled\n",
    "# Note that the cached responses expire every 2 hours or so.\n",
    "# The API response itself dictates the expiry time)\n",
    "imdb1 = Imdb(cache=True)"
   ]
  },
  {
   "cell_type": "code",
   "execution_count": null,
   "metadata": {
    "collapsed": true
   },
   "outputs": [],
   "source": [
    "top250 = imdb1.top_250()\n",
    "dict_top250 = {}\n",
    "for i in range(len(top250)):\n",
    "    dict_top250[((top250[i]['tconst'].encode('utf-8'))[2:len(top250[i]['tconst'].encode('utf-8'))])] = (top250[i]['title'].encode('utf-8'))"
   ]
  },
  {
   "cell_type": "code",
   "execution_count": null,
   "metadata": {
    "collapsed": false
   },
   "outputs": [],
   "source": [
    "# for movId, title in dict_top250.iteritems():\n",
    "#     imdb2 = IMDb()\n",
    "#     my = imdb2.get_movie(movId)\n",
    "#     for castMember in my['cast'][0:10]:\n",
    "#         full_person = imdb2.get_person(castMember.getID(), info=[\"filmography\"])\n",
    "#         pipe.execute()\n",
    "#         try:\n",
    "#             r[castMember['name'].encode('utf-8')]\n",
    "#         except KeyError: \n",
    "#             try:\n",
    "#                 pipe.set(castMember.getID(), (castMember['name'].encode('utf-8'), full_person[\"actress\"]))\n",
    "#             except:\n",
    "#                 pipe.set(castMember.getID(), (castMember['name'].encode('utf-8'), full_person[\"actor\"]))\n",
    "\n",
    "cast_dict = {}\n",
    "\n",
    "for movId, title in dict_top250.iteritems():\n",
    "    cast_list = []\n",
    "#     print movId\n",
    "    imdb2 = IMDb()\n",
    "    my = imdb2.get_movie(movId)\n",
    "#     pipe.execute()\n",
    "    for castMember in my['cast'][0:10]:\n",
    "#         cast_dict[castMember['name'].encode('utf-8')] = castMember.getID();\n",
    "            cast_list.append(castMember.getID());\n",
    "#     print cast_list\n",
    "#     pipe.set(movId, cast_list);        \n",
    "    cast_dict[movId] = cast_list\n",
    "print cast_dict"
   ]
  },
  {
   "cell_type": "code",
   "execution_count": null,
   "metadata": {
    "collapsed": false
   },
   "outputs": [],
   "source": [
    "def test(movies):\n",
    "    \"\"\"input: list of 250 movies\n",
    "        output: hashtable\"\"\"\n",
    "    act_assoc_map = {}\n",
    "    for movie in movies:\n",
    "        l_act = movies.get(movie)\n",
    "        for act in l_act:\n",
    "            for act_id in range(len(l_act)):\n",
    "                if act not in act_assoc_map.keys():\n",
    "                    if l_act[act_id] != act:\n",
    "                        act_assoc_map[act] = [l_act[act_id]]\n",
    "                else:\n",
    "                    if l_act[act_id] != act:\n",
    "                        act_assoc_map[act].append(l_act[act_id])\n",
    "    for actor in act_assoc_map.keys():\n",
    "        act_assoc_map[actor] = list(set(act_assoc_map[actor]))\n",
    "    return act_assoc_map\n",
    "\n",
    "hashtable = test(cast_dict)\n",
    "#print hashtable\n",
    "for key, value in hashtable.iteritems():\n",
    "    print str(value)\n",
    "    pipe.execute();\n",
    "    for i in value:\n",
    "        pipe.lpush(key, i)"
   ]
  },
  {
   "cell_type": "code",
   "execution_count": null,
   "metadata": {
    "collapsed": true
   },
   "outputs": [],
   "source": [
    "len(hashtable.keys())"
   ]
  },
  {
   "cell_type": "code",
   "execution_count": null,
   "metadata": {
    "collapsed": true
   },
   "outputs": [],
   "source": [
    "for key, value in hashtable.iteritems():\n",
    "    print len(value)"
   ]
  },
  {
   "cell_type": "code",
   "execution_count": null,
   "metadata": {
    "collapsed": true
   },
   "outputs": [],
   "source": [
    "full_person = imdb2.get_person('0000138')"
   ]
  },
  {
   "cell_type": "code",
   "execution_count": null,
   "metadata": {
    "collapsed": false
   },
   "outputs": [],
   "source": [
    "full_person"
   ]
  },
  {
   "cell_type": "code",
   "execution_count": null,
   "metadata": {
    "collapsed": false
   },
   "outputs": [],
   "source": [
    "def bfs(graph, start, end):\n",
    "    # maintain a queue of paths\n",
    "    queue = []\n",
    "    # push the first path into the queue\n",
    "    queue.append([start])\n",
    "    while queue:\n",
    "        # get the first path from the queue\n",
    "        path = queue.pop(0)\n",
    "        # get the last node from the path\n",
    "        node = path[-1]\n",
    "        # path found\n",
    "        if node == end:\n",
    "            return path\n",
    "        # enumerate all adjacent nodes, construct a new path and push it into the queue\n",
    "        for adjacent in graph.get(node, []):\n",
    "            new_path = list(path)\n",
    "            new_path.append(adjacent)\n",
    "            queue.append(new_path)\n",
    "\n",
    "list_relation = bfs(hashtable, '0000138', '0000012')"
   ]
  },
  {
   "cell_type": "code",
   "execution_count": null,
   "metadata": {
    "collapsed": false
   },
   "outputs": [],
   "source": [
    "for i in list_relation:\n",
    "    full_person = imdb2.get_person(i)\n",
    "    print full_person"
   ]
  },
  {
   "cell_type": "code",
   "execution_count": null,
   "metadata": {
    "collapsed": true
   },
   "outputs": [],
   "source": []
  }
 ],
 "metadata": {
  "kernelspec": {
   "display_name": "Python 2",
   "language": "python",
   "name": "python2"
  },
  "language_info": {
   "codemirror_mode": {
    "name": "ipython",
    "version": 2
   },
   "file_extension": ".py",
   "mimetype": "text/x-python",
   "name": "python",
   "nbconvert_exporter": "python",
   "pygments_lexer": "ipython2",
   "version": "2.7.10"
  }
 },
 "nbformat": 4,
 "nbformat_minor": 0
}
